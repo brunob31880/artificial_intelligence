{
 "cells": [
  {
   "cell_type": "code",
   "execution_count": 1,
   "id": "1f2743ff",
   "metadata": {},
   "outputs": [],
   "source": [
    "import numpy as np"
   ]
  },
  {
   "cell_type": "code",
   "execution_count": 2,
   "id": "aec808e4",
   "metadata": {},
   "outputs": [],
   "source": [
    "uisketch=np.genfromtxt(\"archive/labels.csv\",delimiter=\",\",dtype=\"U75\")"
   ]
  },
  {
   "cell_type": "code",
   "execution_count": 3,
   "id": "2974a216",
   "metadata": {},
   "outputs": [
    {
     "data": {
      "text/plain": [
       "array([['name', 'label', 'medium', 'device'],\n",
       "       ['alert/0000.jpg', 'alert', 'digital', 'stylus'],\n",
       "       ['alert/0001.jpg', 'alert', 'digital', 'stylus'],\n",
       "       ...,\n",
       "       ['tooltip/0844.jpg', 'tooltip', 'digital', 'stylus'],\n",
       "       ['tooltip/0845.jpg', 'tooltip', 'paper', 'pen'],\n",
       "       ['tooltip/0846.jpg', 'tooltip', 'paper', 'pencil']], dtype='<U75')"
      ]
     },
     "execution_count": 3,
     "metadata": {},
     "output_type": "execute_result"
    }
   ],
   "source": [
    "uisketch"
   ]
  },
  {
   "cell_type": "code",
   "execution_count": 6,
   "id": "a9bc1c0f",
   "metadata": {},
   "outputs": [],
   "source": [
    "uisketch=np.genfromtxt(\"archive/labels.csv\",delimiter=\",\",dtype=\"U75\",skip_header=1)"
   ]
  },
  {
   "cell_type": "code",
   "execution_count": 7,
   "id": "0729ed27",
   "metadata": {},
   "outputs": [
    {
     "data": {
      "text/plain": [
       "array([['alert/0000.jpg', 'alert', 'digital', 'stylus'],\n",
       "       ['alert/0001.jpg', 'alert', 'digital', 'stylus'],\n",
       "       ['alert/0002.jpg', 'alert', 'paper', 'pen'],\n",
       "       ...,\n",
       "       ['tooltip/0844.jpg', 'tooltip', 'digital', 'stylus'],\n",
       "       ['tooltip/0845.jpg', 'tooltip', 'paper', 'pen'],\n",
       "       ['tooltip/0846.jpg', 'tooltip', 'paper', 'pencil']], dtype='<U75')"
      ]
     },
     "execution_count": 7,
     "metadata": {},
     "output_type": "execute_result"
    }
   ],
   "source": [
    "uisketch"
   ]
  },
  {
   "cell_type": "code",
   "execution_count": 8,
   "id": "78b12454",
   "metadata": {},
   "outputs": [
    {
     "data": {
      "text/plain": [
       "(19000, 4)"
      ]
     },
     "execution_count": 8,
     "metadata": {},
     "output_type": "execute_result"
    }
   ],
   "source": [
    "uisketch.shape"
   ]
  },
  {
   "cell_type": "code",
   "execution_count": 15,
   "id": "f91a57b1",
   "metadata": {},
   "outputs": [],
   "source": [
    "import os\n",
    "archive_path=\"/home/bruno.boissie/Travail/artificial_intelligence/uisketch/archive\";\n",
    "os.chdir(archive_path)\n",
    "cat_croquis=[f.path for f in os.scandir(os.getcwd()) if f.is_dir()];"
   ]
  },
  {
   "cell_type": "code",
   "execution_count": 16,
   "id": "f83933fb",
   "metadata": {},
   "outputs": [
    {
     "name": "stdout",
     "output_type": "stream",
     "text": [
      "Nombre de catégories= 21\n"
     ]
    }
   ],
   "source": [
    "print(\"Nombre de catégories= \" + str(len(cat_croquis )))"
   ]
  },
  {
   "cell_type": "code",
   "execution_count": 17,
   "id": "1de9ba3d",
   "metadata": {},
   "outputs": [],
   "source": [
    "X=[]\n",
    "y=[]"
   ]
  },
  {
   "cell_type": "code",
   "execution_count": 40,
   "id": "b5ad7d53",
   "metadata": {},
   "outputs": [],
   "source": [
    "import cv2\n",
    "for cat in cat_croquis:\n",
    "    files_in=[f.path for f in os.scandir(os.path.join(archive_path,cat)) if f.is_file];\n",
    "    for file_in in files_in:\n",
    "        originalImage = cv2.imread(file_in)\n",
    "        grayImage = cv2.cvtColor(originalImage, cv2.COLOR_BGR2GRAY)\n",
    "        (thresh, blackAndWhiteImage) = cv2.threshold(grayImage, 127, 255, cv2.THRESH_BINARY)    \n",
    "        X.append(blackAndWhiteImage.ravel());\n",
    "        y.append(cat_croquis.index(cat));"
   ]
  },
  {
   "cell_type": "code",
   "execution_count": 57,
   "id": "5e9ecb07",
   "metadata": {},
   "outputs": [],
   "source": [
    "import cv2\n",
    "import numpy as np\n",
    "class SKETCH:\n",
    "    def __init__(self,archive_path):\n",
    "        X=[];\n",
    "        y=[];\n",
    "        os.chdir(archive_path)\n",
    "        cat_croquis=[f.path for f in os.scandir(os.getcwd()) if f.is_dir()];\n",
    "        for cat in cat_croquis:       \n",
    "            files_in=[f.path for f in os.scandir(os.path.join(archive_path,cat)) if f.is_file];\n",
    "            for file_in in files_in:\n",
    "                originalImage = cv2.imread(file_in)\n",
    "                grayImage = cv2.cvtColor(originalImage, cv2.COLOR_BGR2GRAY)\n",
    "                (thresh, blackAndWhiteImage) = cv2.threshold(grayImage, 127, 255, cv2.THRESH_BINARY)    \n",
    "                #mise à plat\n",
    "                X.append(blackAndWhiteImage.ravel());\n",
    "                y.append(cat_croquis.index(cat));\n",
    "        shape=np.asarray(X).shape;\n",
    "        #concatenation [X y] avant mélange\n",
    "        Y=np.zeros(shape[0],shape[1]+1);\n",
    "        Y[:,1]=y;\n",
    "        Y[:,[2,shape[1]+1]]=X;\n",
    "        # mélange aléatoire des lignes de Y\n",
    "        np.random.shuffle(Y)\n",
    "        self.X=np.asarray(Y[:,[2,(nc-1)]]);\n",
    "        self.y=np.asarray(Y[:, 1]);"
   ]
  },
  {
   "cell_type": "code",
   "execution_count": 58,
   "id": "a10cc768",
   "metadata": {},
   "outputs": [
    {
     "ename": "AttributeError",
     "evalue": "'list' object has no attribute 'shape'",
     "output_type": "error",
     "traceback": [
      "\u001b[0;31m---------------------------------------------------------------------------\u001b[0m",
      "\u001b[0;31mAttributeError\u001b[0m                            Traceback (most recent call last)",
      "Input \u001b[0;32mIn [58]\u001b[0m, in \u001b[0;36m<cell line: 1>\u001b[0;34m()\u001b[0m\n\u001b[0;32m----> 1\u001b[0m dataset\u001b[38;5;241m=\u001b[39m\u001b[43mSKETCH\u001b[49m\u001b[43m(\u001b[49m\u001b[38;5;124;43m\"\u001b[39;49m\u001b[38;5;124;43m/home/bruno.boissie/Travail/artificial_intelligence/uisketch/archive\u001b[39;49m\u001b[38;5;124;43m\"\u001b[39;49m\u001b[43m)\u001b[49m\n",
      "Input \u001b[0;32mIn [57]\u001b[0m, in \u001b[0;36mSKETCH.__init__\u001b[0;34m(self, archive_path)\u001b[0m\n\u001b[1;32m     16\u001b[0m         X\u001b[38;5;241m.\u001b[39mappend(blackAndWhiteImage\u001b[38;5;241m.\u001b[39mravel());\n\u001b[1;32m     17\u001b[0m         y\u001b[38;5;241m.\u001b[39mappend(cat_croquis\u001b[38;5;241m.\u001b[39mindex(cat));\n\u001b[0;32m---> 18\u001b[0m shape\u001b[38;5;241m=\u001b[39m\u001b[43mX\u001b[49m\u001b[38;5;241;43m.\u001b[39;49m\u001b[43mshape\u001b[49m;\n\u001b[1;32m     19\u001b[0m \u001b[38;5;66;03m#concatenation [X y] avant mélange\u001b[39;00m\n\u001b[1;32m     20\u001b[0m Y\u001b[38;5;241m=\u001b[39mnp\u001b[38;5;241m.\u001b[39mzeros(shape[\u001b[38;5;241m0\u001b[39m],shape[\u001b[38;5;241m1\u001b[39m]\u001b[38;5;241m+\u001b[39m\u001b[38;5;241m1\u001b[39m);\n",
      "\u001b[0;31mAttributeError\u001b[0m: 'list' object has no attribute 'shape'"
     ]
    }
   ],
   "source": [
    "dataset=SKETCH(\"/home/bruno.boissie/Travail/artificial_intelligence/uisketch/archive\")"
   ]
  },
  {
   "cell_type": "code",
   "execution_count": null,
   "id": "57f9b2f0",
   "metadata": {},
   "outputs": [],
   "source": [
    "print(dataset.X.shape)"
   ]
  },
  {
   "cell_type": "code",
   "execution_count": null,
   "id": "22205e99",
   "metadata": {},
   "outputs": [],
   "source": [
    "print(dataset.y.shape)"
   ]
  },
  {
   "cell_type": "code",
   "execution_count": null,
   "id": "f8f73a1f",
   "metadata": {},
   "outputs": [],
   "source": []
  },
  {
   "cell_type": "code",
   "execution_count": null,
   "id": "fa4c7ea7",
   "metadata": {},
   "outputs": [],
   "source": []
  }
 ],
 "metadata": {
  "kernelspec": {
   "display_name": "Python 3 (ipykernel)",
   "language": "python",
   "name": "python3"
  },
  "language_info": {
   "codemirror_mode": {
    "name": "ipython",
    "version": 3
   },
   "file_extension": ".py",
   "mimetype": "text/x-python",
   "name": "python",
   "nbconvert_exporter": "python",
   "pygments_lexer": "ipython3",
   "version": "3.9.12"
  }
 },
 "nbformat": 4,
 "nbformat_minor": 5
}
