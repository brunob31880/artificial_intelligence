{
 "cells": [
  {
   "cell_type": "code",
   "execution_count": 1,
   "id": "1f2743ff",
   "metadata": {},
   "outputs": [],
   "source": [
    "import numpy as np"
   ]
  },
  {
   "cell_type": "code",
   "execution_count": 4,
   "id": "aec808e4",
   "metadata": {},
   "outputs": [],
   "source": [
    "uisketch=np.genfromtxt(\"archive/labels.csv\",delimiter=\",\",dtype=\"U75\")"
   ]
  },
  {
   "cell_type": "code",
   "execution_count": 5,
   "id": "2974a216",
   "metadata": {},
   "outputs": [
    {
     "data": {
      "text/plain": [
       "array([['name', 'label', 'medium', 'device'],\n",
       "       ['alert/0000.jpg', 'alert', 'digital', 'stylus'],\n",
       "       ['alert/0001.jpg', 'alert', 'digital', 'stylus'],\n",
       "       ...,\n",
       "       ['tooltip/0844.jpg', 'tooltip', 'digital', 'stylus'],\n",
       "       ['tooltip/0845.jpg', 'tooltip', 'paper', 'pen'],\n",
       "       ['tooltip/0846.jpg', 'tooltip', 'paper', 'pencil']], dtype='<U75')"
      ]
     },
     "execution_count": 5,
     "metadata": {},
     "output_type": "execute_result"
    }
   ],
   "source": [
    "uisketch"
   ]
  },
  {
   "cell_type": "code",
   "execution_count": 6,
   "id": "48d91f4c",
   "metadata": {},
   "outputs": [],
   "source": [
    "uisketch=np.genfromtxt(\"archive/labels.csv\",delimiter=\",\",dtype=\"U75\",skip_header=1)"
   ]
  },
  {
   "cell_type": "code",
   "execution_count": 7,
   "id": "b7dd8a70",
   "metadata": {},
   "outputs": [
    {
     "data": {
      "text/plain": [
       "array([['alert/0000.jpg', 'alert', 'digital', 'stylus'],\n",
       "       ['alert/0001.jpg', 'alert', 'digital', 'stylus'],\n",
       "       ['alert/0002.jpg', 'alert', 'paper', 'pen'],\n",
       "       ...,\n",
       "       ['tooltip/0844.jpg', 'tooltip', 'digital', 'stylus'],\n",
       "       ['tooltip/0845.jpg', 'tooltip', 'paper', 'pen'],\n",
       "       ['tooltip/0846.jpg', 'tooltip', 'paper', 'pencil']], dtype='<U75')"
      ]
     },
     "execution_count": 7,
     "metadata": {},
     "output_type": "execute_result"
    }
   ],
   "source": [
    "uisketch"
   ]
  },
  {
   "cell_type": "code",
   "execution_count": null,
   "id": "e25af6da",
   "metadata": {},
   "outputs": [],
   "source": []
  }
 ],
 "metadata": {
  "kernelspec": {
   "display_name": "Python 3 (ipykernel)",
   "language": "python",
   "name": "python3"
  },
  "language_info": {
   "codemirror_mode": {
    "name": "ipython",
    "version": 3
   },
   "file_extension": ".py",
   "mimetype": "text/x-python",
   "name": "python",
   "nbconvert_exporter": "python",
   "pygments_lexer": "ipython3",
   "version": "3.9.12"
  }
 },
 "nbformat": 4,
 "nbformat_minor": 5
}
