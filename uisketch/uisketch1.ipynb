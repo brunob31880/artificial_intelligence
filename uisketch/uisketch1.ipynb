{
 "cells": [
  {
   "cell_type": "code",
   "execution_count": 1,
   "id": "1f2743ff",
   "metadata": {},
   "outputs": [],
   "source": [
    "import numpy as np"
   ]
  },
  {
   "cell_type": "code",
   "execution_count": 2,
   "id": "aec808e4",
   "metadata": {},
   "outputs": [],
   "source": [
    "uisketch=np.genfromtxt(\"archive/labels.csv\",delimiter=\",\",dtype=\"U75\")"
   ]
  },
  {
   "cell_type": "code",
   "execution_count": 3,
   "id": "2974a216",
   "metadata": {},
   "outputs": [
    {
     "data": {
      "text/plain": [
       "array([['name', 'label', 'medium', 'device'],\n",
       "       ['alert/0000.jpg', 'alert', 'digital', 'stylus'],\n",
       "       ['alert/0001.jpg', 'alert', 'digital', 'stylus'],\n",
       "       ...,\n",
       "       ['tooltip/0844.jpg', 'tooltip', 'digital', 'stylus'],\n",
       "       ['tooltip/0845.jpg', 'tooltip', 'paper', 'pen'],\n",
       "       ['tooltip/0846.jpg', 'tooltip', 'paper', 'pencil']], dtype='<U75')"
      ]
     },
     "execution_count": 3,
     "metadata": {},
     "output_type": "execute_result"
    }
   ],
   "source": [
    "uisketch"
   ]
  },
  {
   "cell_type": "code",
   "execution_count": 6,
   "id": "a9bc1c0f",
   "metadata": {},
   "outputs": [],
   "source": [
    "uisketch=np.genfromtxt(\"archive/labels.csv\",delimiter=\",\",dtype=\"U75\",skip_header=1)"
   ]
  },
  {
   "cell_type": "code",
   "execution_count": 7,
   "id": "0729ed27",
   "metadata": {},
   "outputs": [
    {
     "data": {
      "text/plain": [
       "array([['alert/0000.jpg', 'alert', 'digital', 'stylus'],\n",
       "       ['alert/0001.jpg', 'alert', 'digital', 'stylus'],\n",
       "       ['alert/0002.jpg', 'alert', 'paper', 'pen'],\n",
       "       ...,\n",
       "       ['tooltip/0844.jpg', 'tooltip', 'digital', 'stylus'],\n",
       "       ['tooltip/0845.jpg', 'tooltip', 'paper', 'pen'],\n",
       "       ['tooltip/0846.jpg', 'tooltip', 'paper', 'pencil']], dtype='<U75')"
      ]
     },
     "execution_count": 7,
     "metadata": {},
     "output_type": "execute_result"
    }
   ],
   "source": [
    "uisketch"
   ]
  },
  {
   "cell_type": "code",
   "execution_count": 8,
   "id": "78b12454",
   "metadata": {},
   "outputs": [
    {
     "data": {
      "text/plain": [
       "(19000, 4)"
      ]
     },
     "execution_count": 8,
     "metadata": {},
     "output_type": "execute_result"
    }
   ],
   "source": [
    "uisketch.shape"
   ]
  },
  {
   "cell_type": "code",
   "execution_count": 15,
   "id": "f91a57b1",
   "metadata": {},
   "outputs": [],
   "source": [
    "import os\n",
    "archive_path=\"/home/bruno.boissie/Travail/artificial_intelligence/uisketch/archive\";\n",
    "os.chdir(archive_path)\n",
    "cat_croquis=[f.path for f in os.scandir(os.getcwd()) if f.is_dir()];"
   ]
  },
  {
   "cell_type": "code",
   "execution_count": 16,
   "id": "3191ce14",
   "metadata": {},
   "outputs": [
    {
     "name": "stdout",
     "output_type": "stream",
     "text": [
      "Nombre de catégories= 21\n"
     ]
    }
   ],
   "source": [
    "print(\"Nombre de catégories= \" + str(len(cat_croquis )))"
   ]
  },
  {
   "cell_type": "code",
   "execution_count": 17,
   "id": "72833c96",
   "metadata": {},
   "outputs": [],
   "source": [
    "X=[]\n",
    "y=[]"
   ]
  },
  {
   "cell_type": "code",
   "execution_count": 40,
   "id": "ff5e6b9a",
   "metadata": {},
   "outputs": [],
   "source": [
    "import cv2\n",
    "for cat in cat_croquis:\n",
    "    files_in=[f.path for f in os.scandir(os.path.join(archive_path,cat)) if f.is_file];\n",
    "    for file_in in files_in:\n",
    "        originalImage = cv2.imread(file_in)\n",
    "        grayImage = cv2.cvtColor(originalImage, cv2.COLOR_BGR2GRAY)\n",
    "        (thresh, blackAndWhiteImage) = cv2.threshold(grayImage, 127, 255, cv2.THRESH_BINARY)    \n",
    "        X.append(blackAndWhiteImage.ravel());\n",
    "        y.append(cat_croquis.index(cat));"
   ]
  },
  {
   "cell_type": "code",
   "execution_count": 59,
   "id": "430e422a",
   "metadata": {},
   "outputs": [],
   "source": [
    "import cv2\n",
    "import numpy as np\n",
    "class SKETCH:\n",
    "    def __init__(self,archive_path):\n",
    "        X=[];\n",
    "        y=[];\n",
    "        os.chdir(archive_path)\n",
    "        cat_croquis=[f.path for f in os.scandir(os.getcwd()) if f.is_dir()];\n",
    "        for cat in cat_croquis:       \n",
    "            files_in=[f.path for f in os.scandir(os.path.join(archive_path,cat)) if f.is_file];\n",
    "            for file_in in files_in:\n",
    "                originalImage = cv2.imread(file_in)\n",
    "                grayImage = cv2.cvtColor(originalImage, cv2.COLOR_BGR2GRAY)\n",
    "                (thresh, blackAndWhiteImage) = cv2.threshold(grayImage, 127, 255, cv2.THRESH_BINARY)    \n",
    "                #mise à plat\n",
    "                X.append(blackAndWhiteImage.ravel());\n",
    "                y.append(cat_croquis.index(cat));\n",
    "        shape=np.asarray(X).shape;\n",
    "        #concatenation [X y] avant mélange\n",
    "        Y=np.zeros(shape[0],shape[1]+1);\n",
    "        Y[:,1]=y;\n",
    "        Y[:,[2,shape[1]+1]]=X;\n",
    "        # mélange aléatoire des lignes de Y\n",
    "        np.random.shuffle(Y)\n",
    "        self.X=np.asarray(Y[:,[2,(nc-1)]]);\n",
    "        self.y=np.asarray(Y[:, 1]);"
   ]
  },
  {
   "cell_type": "code",
   "execution_count": null,
   "id": "27206678",
   "metadata": {},
   "outputs": [],
   "source": [
    "dataset=SKETCH(\"/home/bruno.boissie/Travail/artificial_intelligence/uisketch/archive\")"
   ]
  },
  {
   "cell_type": "code",
   "execution_count": null,
   "id": "86c8ef09",
   "metadata": {},
   "outputs": [],
   "source": [
    "print(dataset.X.shape)"
   ]
  },
  {
   "cell_type": "code",
   "execution_count": null,
   "id": "c5355881",
   "metadata": {},
   "outputs": [],
   "source": [
    "print(dataset.y.shape)"
   ]
  },
  {
   "cell_type": "code",
   "execution_count": null,
   "id": "13a69f2e",
   "metadata": {},
   "outputs": [],
   "source": []
  },
  {
   "cell_type": "code",
   "execution_count": null,
   "id": "d7d3a743",
   "metadata": {},
   "outputs": [],
   "source": []
  }
 ],
 "metadata": {
  "kernelspec": {
   "display_name": "Python 3 (ipykernel)",
   "language": "python",
   "name": "python3"
  },
  "language_info": {
   "codemirror_mode": {
    "name": "ipython",
    "version": 3
   },
   "file_extension": ".py",
   "mimetype": "text/x-python",
   "name": "python",
   "nbconvert_exporter": "python",
   "pygments_lexer": "ipython3",
   "version": "3.9.12"
  }
 },
 "nbformat": 4,
 "nbformat_minor": 5
}
