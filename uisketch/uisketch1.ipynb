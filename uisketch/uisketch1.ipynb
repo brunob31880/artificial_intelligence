{
 "cells": [
  {
   "cell_type": "code",
   "execution_count": 1,
   "id": "1f2743ff",
   "metadata": {},
   "outputs": [],
   "source": [
    "import numpy as np"
   ]
  },
  {
   "cell_type": "code",
   "execution_count": 2,
   "id": "aec808e4",
   "metadata": {},
   "outputs": [],
   "source": [
    "uisketch=np.genfromtxt(\"archive/labels.csv\",delimiter=\",\",dtype=\"U75\")"
   ]
  },
  {
   "cell_type": "code",
   "execution_count": 3,
   "id": "2974a216",
   "metadata": {},
   "outputs": [
    {
     "data": {
      "text/plain": [
       "array([['name', 'label', 'medium', 'device'],\n",
       "       ['alert/0000.jpg', 'alert', 'digital', 'stylus'],\n",
       "       ['alert/0001.jpg', 'alert', 'digital', 'stylus'],\n",
       "       ...,\n",
       "       ['tooltip/0844.jpg', 'tooltip', 'digital', 'stylus'],\n",
       "       ['tooltip/0845.jpg', 'tooltip', 'paper', 'pen'],\n",
       "       ['tooltip/0846.jpg', 'tooltip', 'paper', 'pencil']], dtype='<U75')"
      ]
     },
     "execution_count": 3,
     "metadata": {},
     "output_type": "execute_result"
    }
   ],
   "source": [
    "uisketch"
   ]
  },
  {
   "cell_type": "code",
   "execution_count": 6,
   "id": "a9bc1c0f",
   "metadata": {},
   "outputs": [],
   "source": [
    "uisketch=np.genfromtxt(\"archive/labels.csv\",delimiter=\",\",dtype=\"U75\",skip_header=1)"
   ]
  },
  {
   "cell_type": "code",
   "execution_count": 7,
   "id": "0729ed27",
   "metadata": {},
   "outputs": [
    {
     "data": {
      "text/plain": [
       "array([['alert/0000.jpg', 'alert', 'digital', 'stylus'],\n",
       "       ['alert/0001.jpg', 'alert', 'digital', 'stylus'],\n",
       "       ['alert/0002.jpg', 'alert', 'paper', 'pen'],\n",
       "       ...,\n",
       "       ['tooltip/0844.jpg', 'tooltip', 'digital', 'stylus'],\n",
       "       ['tooltip/0845.jpg', 'tooltip', 'paper', 'pen'],\n",
       "       ['tooltip/0846.jpg', 'tooltip', 'paper', 'pencil']], dtype='<U75')"
      ]
     },
     "execution_count": 7,
     "metadata": {},
     "output_type": "execute_result"
    }
   ],
   "source": [
    "uisketch"
   ]
  },
  {
   "cell_type": "code",
   "execution_count": 8,
   "id": "78b12454",
   "metadata": {},
   "outputs": [
    {
     "data": {
      "text/plain": [
       "(19000, 4)"
      ]
     },
     "execution_count": 8,
     "metadata": {},
     "output_type": "execute_result"
    }
   ],
   "source": [
    "uisketch.shape"
   ]
  },
  {
   "cell_type": "code",
   "execution_count": 15,
   "id": "f91a57b1",
   "metadata": {},
   "outputs": [],
   "source": [
    "import os\n",
    "archive_path=\"/home/bruno.boissie/Travail/artificial_intelligence/uisketch/archive\";\n",
    "os.chdir(archive_path)\n",
    "cat_croquis=[f.path for f in os.scandir(os.getcwd()) if f.is_dir()];"
   ]
  },
  {
   "cell_type": "code",
   "execution_count": 16,
   "id": "ae553e68",
   "metadata": {},
   "outputs": [
    {
     "name": "stdout",
     "output_type": "stream",
     "text": [
      "Nombre de catégories= 21\n"
     ]
    }
   ],
   "source": [
    "print(\"Nombre de catégories= \" + str(len(cat_croquis )))"
   ]
  },
  {
   "cell_type": "code",
   "execution_count": 17,
   "id": "f5aff890",
   "metadata": {},
   "outputs": [],
   "source": [
    "X=[]\n",
    "y=[]"
   ]
  },
  {
   "cell_type": "code",
   "execution_count": 40,
   "id": "8992ebf7",
   "metadata": {},
   "outputs": [],
   "source": [
    "import cv2\n",
    "for cat in cat_croquis:\n",
    "    files_in=[f.path for f in os.scandir(os.path.join(archive_path,cat)) if f.is_file];\n",
    "    for file_in in files_in:\n",
    "        originalImage = cv2.imread(file_in)\n",
    "        grayImage = cv2.cvtColor(originalImage, cv2.COLOR_BGR2GRAY)\n",
    "        (thresh, blackAndWhiteImage) = cv2.threshold(grayImage, 127, 255, cv2.THRESH_BINARY)    \n",
    "        X.append(blackAndWhiteImage.ravel());\n",
    "        y.append(cat_croquis.index(cat));"
   ]
  },
  {
   "cell_type": "code",
   "execution_count": 1,
   "id": "d16d1454",
   "metadata": {},
   "outputs": [],
   "source": [
    "import cv2;\n",
    "import os;\n",
    "import numpy as np;\n",
    "class SKETCH:\n",
    "    def __init__(self,archive_path):\n",
    "        X=[];\n",
    "        y=[];\n",
    "        os.chdir(archive_path)\n",
    "        cat_croquis=[f.path for f in os.scandir(os.getcwd()) if f.is_dir()];\n",
    "        for cat in cat_croquis:       \n",
    "            files_in=[f.path for f in os.scandir(os.path.join(archive_path,cat)) if f.is_file];\n",
    "            for file_in in files_in:\n",
    "                originalImage = cv2.imread(file_in)\n",
    "                grayImage = cv2.cvtColor(originalImage, cv2.COLOR_BGR2GRAY)\n",
    "                (thresh, blackAndWhiteImage) = cv2.threshold(grayImage, 127, 255, cv2.THRESH_BINARY)    \n",
    "                #mise à plat\n",
    "                X.append(blackAndWhiteImage.ravel());\n",
    "                y.append(cat_croquis.index(cat));\n",
    "        shape=np.asarray(X).shape;\n",
    "        #concatenation [X y] avant mélange\n",
    "        nc=shape[1]+1;\n",
    "        print(\"NOMBRE DE COLONNE=\"+str(nc));\n",
    "        Y=np.zeros((shape[0],nc));\n",
    "        Y[:,1]=y;\n",
    "        Y[:,[2,(shape[1]+1)]]=X;\n",
    "        # mélange aléatoire des lignes de Y\n",
    "        print(\"SHUFFLE\")\n",
    "        np.random.shuffle(Y)\n",
    "        self.X=np.asarray(Y[:,[2,(shape[1]+1)]]);\n",
    "        self.y=np.asarray(Y[:, 1]);\n",
    "    def show_examples(self):\n",
    "        fix,axes=subplot(5,5);\n",
    "        fig.tight_layout();\n",
    "        for i in range(5):\n",
    "            for i in range(5):\n",
    "                rand=np.random.choice(range(self.X.shape[0]));\n",
    "                axis[i][j].set_axis_off();\n",
    "                axis[i][j].imshow(self.__prep_img(rand));\n",
    "    def __prep_img(self,idx):\n",
    "        img=self.X[idex].reshape(224,224).astype(np.uint8);\n",
    "        img=cv2.cvtColor(img, cv2.COLOR_BGR2GRAY)\n",
    "        return img"
   ]
  },
  {
   "cell_type": "code",
   "execution_count": null,
   "id": "5c89e7ef",
   "metadata": {},
   "outputs": [
    {
     "name": "stdout",
     "output_type": "stream",
     "text": [
      "NOMBRE DE COLONNE=50177\n"
     ]
    }
   ],
   "source": [
    "dataset=SKETCH(\"/home/bruno.boissie/Travail/artificial_intelligence/uisketch/archive\")"
   ]
  },
  {
   "cell_type": "code",
   "execution_count": null,
   "id": "a4297582",
   "metadata": {},
   "outputs": [],
   "source": [
    "print(dataset.X.shape)"
   ]
  },
  {
   "cell_type": "code",
   "execution_count": null,
   "id": "f834cc04",
   "metadata": {},
   "outputs": [],
   "source": [
    "print(dataset.y.shape)"
   ]
  },
  {
   "cell_type": "code",
   "execution_count": 1,
   "id": "51bd88dd",
   "metadata": {},
   "outputs": [],
   "source": [
    "X=[]"
   ]
  },
  {
   "cell_type": "code",
   "execution_count": 2,
   "id": "67ba533a",
   "metadata": {},
   "outputs": [],
   "source": [
    "y=[]"
   ]
  },
  {
   "cell_type": "code",
   "execution_count": 3,
   "id": "129fab0b",
   "metadata": {},
   "outputs": [],
   "source": [
    "X.append([1,2,3])"
   ]
  },
  {
   "cell_type": "code",
   "execution_count": 4,
   "id": "c581c9a0",
   "metadata": {},
   "outputs": [],
   "source": [
    "X.append([4,5,6])"
   ]
  },
  {
   "cell_type": "code",
   "execution_count": 5,
   "id": "b2c17323",
   "metadata": {},
   "outputs": [],
   "source": [
    "y.append([7])"
   ]
  },
  {
   "cell_type": "code",
   "execution_count": 6,
   "id": "57a72a5c",
   "metadata": {},
   "outputs": [],
   "source": [
    "y.append([8])"
   ]
  },
  {
   "cell_type": "code",
   "execution_count": 7,
   "id": "8dc60c68",
   "metadata": {},
   "outputs": [
    {
     "data": {
      "text/plain": [
       "[[1, 2, 3], [4, 5, 6]]"
      ]
     },
     "execution_count": 7,
     "metadata": {},
     "output_type": "execute_result"
    }
   ],
   "source": [
    "X"
   ]
  },
  {
   "cell_type": "code",
   "execution_count": 8,
   "id": "f1dd81b0",
   "metadata": {},
   "outputs": [
    {
     "data": {
      "text/plain": [
       "[[7], [8]]"
      ]
     },
     "execution_count": 8,
     "metadata": {},
     "output_type": "execute_result"
    }
   ],
   "source": [
    "y"
   ]
  },
  {
   "cell_type": "code",
   "execution_count": 10,
   "id": "4cf65448",
   "metadata": {},
   "outputs": [],
   "source": [
    "import numpy as np;"
   ]
  },
  {
   "cell_type": "code",
   "execution_count": 11,
   "id": "b1c2f846",
   "metadata": {},
   "outputs": [],
   "source": [
    "X1=np.array(X)"
   ]
  },
  {
   "cell_type": "code",
   "execution_count": 12,
   "id": "261d847a",
   "metadata": {},
   "outputs": [
    {
     "data": {
      "text/plain": [
       "(2, 3)"
      ]
     },
     "execution_count": 12,
     "metadata": {},
     "output_type": "execute_result"
    }
   ],
   "source": [
    "X1.shape"
   ]
  },
  {
   "cell_type": "code",
   "execution_count": 13,
   "id": "e88020a8",
   "metadata": {},
   "outputs": [],
   "source": [
    "y1=np.array(y)"
   ]
  },
  {
   "cell_type": "code",
   "execution_count": 14,
   "id": "d6336606",
   "metadata": {},
   "outputs": [
    {
     "data": {
      "text/plain": [
       "(2, 1)"
      ]
     },
     "execution_count": 14,
     "metadata": {},
     "output_type": "execute_result"
    }
   ],
   "source": [
    "y1.shape"
   ]
  },
  {
   "cell_type": "code",
   "execution_count": 18,
   "id": "a0b9445e",
   "metadata": {},
   "outputs": [
    {
     "data": {
      "text/plain": [
       "array([[1, 2, 3, 7],\n",
       "       [4, 5, 6, 8]])"
      ]
     },
     "execution_count": 18,
     "metadata": {},
     "output_type": "execute_result"
    }
   ],
   "source": [
    "np.concatenate((X1,y1),axis=1)"
   ]
  },
  {
   "cell_type": "code",
   "execution_count": 19,
   "id": "0fce9dc4",
   "metadata": {},
   "outputs": [
    {
     "data": {
      "text/plain": [
       "array([[7],\n",
       "       [8]])"
      ]
     },
     "execution_count": 19,
     "metadata": {},
     "output_type": "execute_result"
    }
   ],
   "source": [
    "y1"
   ]
  },
  {
   "cell_type": "code",
   "execution_count": null,
   "id": "48156d89",
   "metadata": {},
   "outputs": [],
   "source": []
  }
 ],
 "metadata": {
  "kernelspec": {
   "display_name": "Python 3.9.2 64-bit",
   "language": "python",
   "name": "python3"
  },
  "language_info": {
   "codemirror_mode": {
    "name": "ipython",
    "version": 3
   },
   "file_extension": ".py",
   "mimetype": "text/x-python",
   "name": "python",
   "nbconvert_exporter": "python",
   "pygments_lexer": "ipython3",
   "version": "3.9.2"
  },
  "vscode": {
   "interpreter": {
    "hash": "916dbcbb3f70747c44a77c7bcd40155683ae19c65e1c03b4aa3499c5328201f1"
   }
  }
 },
 "nbformat": 4,
 "nbformat_minor": 5
}
