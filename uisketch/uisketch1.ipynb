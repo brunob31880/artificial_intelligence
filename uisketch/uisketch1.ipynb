{
 "cells": [
  {
   "cell_type": "code",
   "execution_count": 1,
   "id": "1f2743ff",
   "metadata": {},
   "outputs": [],
   "source": [
    "import numpy as np"
   ]
  },
  {
   "cell_type": "code",
   "execution_count": 2,
   "id": "aec808e4",
   "metadata": {},
   "outputs": [],
   "source": [
    "uisketch=np.genfromtxt(\"archive/labels.csv\",delimiter=\",\",dtype=\"U75\")"
   ]
  },
  {
   "cell_type": "code",
   "execution_count": 3,
   "id": "2974a216",
   "metadata": {},
   "outputs": [
    {
     "data": {
      "text/plain": [
       "array([['name', 'label', 'medium', 'device'],\n",
       "       ['alert/0000.jpg', 'alert', 'digital', 'stylus'],\n",
       "       ['alert/0001.jpg', 'alert', 'digital', 'stylus'],\n",
       "       ...,\n",
       "       ['tooltip/0844.jpg', 'tooltip', 'digital', 'stylus'],\n",
       "       ['tooltip/0845.jpg', 'tooltip', 'paper', 'pen'],\n",
       "       ['tooltip/0846.jpg', 'tooltip', 'paper', 'pencil']], dtype='<U75')"
      ]
     },
     "execution_count": 3,
     "metadata": {},
     "output_type": "execute_result"
    }
   ],
   "source": [
    "uisketch"
   ]
  },
  {
   "cell_type": "code",
   "execution_count": 6,
   "id": "a9bc1c0f",
   "metadata": {},
   "outputs": [],
   "source": [
    "uisketch=np.genfromtxt(\"archive/labels.csv\",delimiter=\",\",dtype=\"U75\",skip_header=1)"
   ]
  },
  {
   "cell_type": "code",
   "execution_count": 7,
   "id": "0729ed27",
   "metadata": {},
   "outputs": [
    {
     "data": {
      "text/plain": [
       "array([['alert/0000.jpg', 'alert', 'digital', 'stylus'],\n",
       "       ['alert/0001.jpg', 'alert', 'digital', 'stylus'],\n",
       "       ['alert/0002.jpg', 'alert', 'paper', 'pen'],\n",
       "       ...,\n",
       "       ['tooltip/0844.jpg', 'tooltip', 'digital', 'stylus'],\n",
       "       ['tooltip/0845.jpg', 'tooltip', 'paper', 'pen'],\n",
       "       ['tooltip/0846.jpg', 'tooltip', 'paper', 'pencil']], dtype='<U75')"
      ]
     },
     "execution_count": 7,
     "metadata": {},
     "output_type": "execute_result"
    }
   ],
   "source": [
    "uisketch"
   ]
  },
  {
   "cell_type": "code",
   "execution_count": 8,
   "id": "78b12454",
   "metadata": {},
   "outputs": [
    {
     "data": {
      "text/plain": [
       "(19000, 4)"
      ]
     },
     "execution_count": 8,
     "metadata": {},
     "output_type": "execute_result"
    }
   ],
   "source": [
    "uisketch.shape"
   ]
  },
  {
   "cell_type": "code",
   "execution_count": 15,
   "id": "f91a57b1",
   "metadata": {},
   "outputs": [],
   "source": [
    "import os\n",
    "archive_path=\"/home/bruno.boissie/Travail/artificial_intelligence/uisketch/archive\";\n",
    "os.chdir(archive_path)\n",
    "cat_croquis=[f.path for f in os.scandir(os.getcwd()) if f.is_dir()];"
   ]
  },
  {
   "cell_type": "code",
   "execution_count": 16,
   "id": "ae553e68",
   "metadata": {},
   "outputs": [
    {
     "name": "stdout",
     "output_type": "stream",
     "text": [
      "Nombre de catégories= 21\n"
     ]
    }
   ],
   "source": [
    "print(\"Nombre de catégories= \" + str(len(cat_croquis )))"
   ]
  },
  {
   "cell_type": "code",
   "execution_count": 17,
   "id": "f5aff890",
   "metadata": {},
   "outputs": [],
   "source": [
    "X=[]\n",
    "y=[]"
   ]
  },
  {
   "cell_type": "code",
   "execution_count": 40,
   "id": "8992ebf7",
   "metadata": {},
   "outputs": [],
   "source": [
    "import cv2\n",
    "for cat in cat_croquis:\n",
    "    files_in=[f.path for f in os.scandir(os.path.join(archive_path,cat)) if f.is_file];\n",
    "    for file_in in files_in:\n",
    "        originalImage = cv2.imread(file_in)\n",
    "        grayImage = cv2.cvtColor(originalImage, cv2.COLOR_BGR2GRAY)\n",
    "        (thresh, blackAndWhiteImage) = cv2.threshold(grayImage, 127, 255, cv2.THRESH_BINARY)    \n",
    "        X.append(blackAndWhiteImage.ravel());\n",
    "        y.append(cat_croquis.index(cat));"
   ]
  },
  {
   "cell_type": "code",
   "execution_count": 20,
   "id": "d16d1454",
   "metadata": {},
   "outputs": [],
   "source": [
    "import cv2;\n",
    "import os;\n",
    "import numpy as np;\n",
    "class SKETCH:\n",
    "    def __init__(self,archive_path):\n",
    "        X=[];\n",
    "        y=[];\n",
    "        os.chdir(archive_path)\n",
    "        cat_croquis=[f.path for f in os.scandir(os.getcwd()) if f.is_dir()];\n",
    "        for cat in cat_croquis:       \n",
    "            files_in=[f.path for f in os.scandir(os.path.join(archive_path,cat)) if f.is_file];\n",
    "            for file_in in files_in:\n",
    "                originalImage = cv2.imread(file_in)\n",
    "                grayImage = cv2.cvtColor(originalImage, cv2.COLOR_BGR2GRAY)\n",
    "                (thresh, blackAndWhiteImage) = cv2.threshold(grayImage, 127, 255, cv2.THRESH_BINARY)    \n",
    "                #mise à plat\n",
    "                X.append(blackAndWhiteImage.ravel());\n",
    "                y.append(cat_croquis.index(cat));\n",
    "        shape=np.asarray(X).shape;\n",
    "        #concatenation [X y] avant mélange\n",
    "        nc=shape[1]+1;\n",
    "        print(nc)\n",
    "        Y=np.zeros((shape[0],nc));\n",
    "        Y[:,1]=y;\n",
    "        Y[:,[2,(shape[1]+1)]]=X;\n",
    "        # mélange aléatoire des lignes de Y\n",
    "        np.random.shuffle(Y)\n",
    "        self.X=np.asarray(Y[:,[2,(shape[1]+1)]]);\n",
    "        self.y=np.asarray(Y[:, 1]);\n",
    "    def show_examples(self):\n",
    "        fix,axes=subplot(5,5);\n",
    "        fig.tight_layout();\n",
    "        for i in range(5):\n",
    "            for i in range(5):\n",
    "                rand=np.random.choice(range(self.X.shape[0]));\n",
    "                axis[i][j].set_axis_off();\n",
    "                axis[i][j].imshow(self.__prep_img(rand));\n",
    "    def __prep_img(self,idx):\n",
    "        img=self.X[idex].reshape(224,224).astype(np.uint8);\n",
    "        img=cv2.cvtColor(img, cv2.COLOR_BGR2GRAY)\n",
    "        return img"
   ]
  },
  {
   "cell_type": "code",
   "execution_count": null,
   "id": "5c89e7ef",
   "metadata": {},
   "outputs": [
    {
     "name": "stdout",
     "output_type": "stream",
     "text": [
      "50177\n"
     ]
    }
   ],
   "source": [
    "dataset=SKETCH(\"/home/bruno.boissie/Travail/artificial_intelligence/uisketch/archive\")"
   ]
  },
  {
   "cell_type": "code",
   "execution_count": 18,
   "id": "a4297582",
   "metadata": {},
   "outputs": [
    {
     "ename": "NameError",
     "evalue": "name 'dataset' is not defined",
     "output_type": "error",
     "traceback": [
      "\u001b[0;31m---------------------------------------------------------------------------\u001b[0m",
      "\u001b[0;31mNameError\u001b[0m                                 Traceback (most recent call last)",
      "Input \u001b[0;32mIn [18]\u001b[0m, in \u001b[0;36m<cell line: 1>\u001b[0;34m()\u001b[0m\n\u001b[0;32m----> 1\u001b[0m \u001b[38;5;28mprint\u001b[39m(\u001b[43mdataset\u001b[49m\u001b[38;5;241m.\u001b[39mX\u001b[38;5;241m.\u001b[39mshape)\n",
      "\u001b[0;31mNameError\u001b[0m: name 'dataset' is not defined"
     ]
    }
   ],
   "source": [
    "print(dataset.X.shape)"
   ]
  },
  {
   "cell_type": "code",
   "execution_count": null,
   "id": "f834cc04",
   "metadata": {},
   "outputs": [],
   "source": [
    "print(dataset.y.shape)"
   ]
  },
  {
   "cell_type": "code",
   "execution_count": null,
   "id": "51bd88dd",
   "metadata": {},
   "outputs": [],
   "source": []
  },
  {
   "cell_type": "code",
   "execution_count": null,
   "id": "67ba533a",
   "metadata": {},
   "outputs": [],
   "source": []
  }
 ],
 "metadata": {
  "kernelspec": {
   "display_name": "Python 3 (ipykernel)",
   "language": "python",
   "name": "python3"
  },
  "language_info": {
   "codemirror_mode": {
    "name": "ipython",
    "version": 3
   },
   "file_extension": ".py",
   "mimetype": "text/x-python",
   "name": "python",
   "nbconvert_exporter": "python",
   "pygments_lexer": "ipython3",
   "version": "3.9.12"
  }
 },
 "nbformat": 4,
 "nbformat_minor": 5
}
